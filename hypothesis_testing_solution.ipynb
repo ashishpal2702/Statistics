{
  "nbformat": 4,
  "nbformat_minor": 0,
  "metadata": {
    "colab": {
      "name": "hypothesis_testing_solution.ipynb",
      "provenance": [],
      "include_colab_link": true
    },
    "kernelspec": {
      "display_name": "Python 3",
      "language": "python",
      "name": "python3"
    },
    "language_info": {
      "codemirror_mode": {
        "name": "ipython",
        "version": 3
      },
      "file_extension": ".py",
      "mimetype": "text/x-python",
      "name": "python",
      "nbconvert_exporter": "python",
      "pygments_lexer": "ipython3",
      "version": "3.7.3"
    }
  },
  "cells": [
    {
      "cell_type": "markdown",
      "metadata": {
        "id": "view-in-github",
        "colab_type": "text"
      },
      "source": [
        "<a href=\"https://colab.research.google.com/github/ashishpal2702/Statistics/blob/master/hypothesis_testing_solution.ipynb\" target=\"_parent\"><img src=\"https://colab.research.google.com/assets/colab-badge.svg\" alt=\"Open In Colab\"/></a>"
      ]
    },
    {
      "cell_type": "markdown",
      "metadata": {
        "colab_type": "text",
        "id": "xx5CxeVubU3W"
      },
      "source": [
        "# Hypothesis Testing"
      ]
    },
    {
      "cell_type": "markdown",
      "metadata": {
        "colab_type": "text",
        "id": "6OR23eWKbU3X"
      },
      "source": [
        "The purpose of the test is to tell if there is any significant difference between two data sets.\n",
        "\n"
      ]
    },
    {
      "cell_type": "markdown",
      "metadata": {
        "colab_type": "text",
        "id": "604OoWnTbU3Z"
      },
      "source": [
        "## Overview"
      ]
    },
    {
      "cell_type": "markdown",
      "metadata": {
        "colab_type": "text",
        "id": "o-il1iBSbU3b"
      },
      "source": [
        "This module covers,\n",
        "\n",
        "1) One sample and Two sample t-tests\n",
        "\n",
        "2) ANOVA\n",
        "\n",
        "3) Chi-Squared Tests"
      ]
    },
    {
      "cell_type": "markdown",
      "metadata": {
        "colab_type": "text",
        "id": "G2yYl5cvbU3c"
      },
      "source": [
        "## Question 1 \n",
        "\n",
        "*A student is trying to decide between two GPUs. He want to use the GPU for his research to run Deep learning algorithms, so the only thing he is concerned with is speed.*\n",
        "\n",
        "*He picks a Deep Learning algorithm on a large data set and runs it on both GPUs 15 times, timing each run in hours. Results are given in the below lists GPU1 and GPU2.*"
      ]
    },
    {
      "cell_type": "code",
      "metadata": {
        "colab_type": "code",
        "id": "ohh5XJ4ZbU3d",
        "colab": {}
      },
      "source": [
        "from scipy import stats \n",
        "import numpy as np"
      ],
      "execution_count": 2,
      "outputs": []
    },
    {
      "cell_type": "code",
      "metadata": {
        "colab_type": "code",
        "id": "6yGkYI6EbU3i",
        "colab": {}
      },
      "source": [
        "GPU1 = np.array([11,9,10,11,10,12,9,11,12,9,11,12,9,10,9])\n",
        "GPU2 = np.array([11,13,10,13,12,9,11,12,12,11,12,12,10,11,13])\n",
        "\n",
        "#Assumption: Both the datasets (GPU1 & GPU 2) are random, independent, parametric & normally distributed"
      ],
      "execution_count": 3,
      "outputs": []
    },
    {
      "cell_type": "code",
      "metadata": {
        "id": "6lTNEc7QK5Y2",
        "colab_type": "code",
        "colab": {
          "base_uri": "https://localhost:8080/",
          "height": 34
        },
        "outputId": "c4592a59-2ce6-4260-b74f-b8c5c193f91e"
      },
      "source": [
        "len(GPU2)"
      ],
      "execution_count": 6,
      "outputs": [
        {
          "output_type": "execute_result",
          "data": {
            "text/plain": [
              "15"
            ]
          },
          "metadata": {
            "tags": []
          },
          "execution_count": 6
        }
      ]
    },
    {
      "cell_type": "markdown",
      "metadata": {
        "colab_type": "text",
        "id": "L55jqmIXbU3m"
      },
      "source": [
        "Hint: You can import ttest function from scipy to perform t tests "
      ]
    },
    {
      "cell_type": "markdown",
      "metadata": {
        "colab_type": "text",
        "id": "v8fsIhPFbU3n"
      },
      "source": [
        "**First T test**\n",
        "\n",
        "*One sample t-test*\n",
        "\n",
        "Check if the mean of the GPU1 is equal to zero.\n",
        "- Null Hypothesis is that mean is equal to zero.\n",
        "- Alternate hypothesis is that it is not equal to zero."
      ]
    },
    {
      "cell_type": "markdown",
      "metadata": {
        "id": "PJaacgVWAr49",
        "colab_type": "text"
      },
      "source": [
        "# Answer"
      ]
    },
    {
      "cell_type": "code",
      "metadata": {
        "colab_type": "code",
        "id": "wgMSWwApbU3o",
        "colab": {
          "base_uri": "https://localhost:8080/",
          "height": 34
        },
        "outputId": "b7f569eb-ca34-438d-fa4d-d1e6681f5d30"
      },
      "source": [
        "stats.ttest_1samp(GPU1,0)"
      ],
      "execution_count": 7,
      "outputs": [
        {
          "output_type": "execute_result",
          "data": {
            "text/plain": [
              "Ttest_1sampResult(statistic=34.056241516158195, pvalue=7.228892044970457e-15)"
            ]
          },
          "metadata": {
            "tags": []
          },
          "execution_count": 7
        }
      ]
    },
    {
      "cell_type": "markdown",
      "metadata": {
        "id": "JZHNRUUjAr5M",
        "colab_type": "text"
      },
      "source": [
        "Since, p < 0.05, so reject Null Hypothesis."
      ]
    },
    {
      "cell_type": "markdown",
      "metadata": {
        "colab_type": "text",
        "id": "byu8iw46bU3v"
      },
      "source": [
        "## Question 2"
      ]
    },
    {
      "cell_type": "markdown",
      "metadata": {
        "colab_type": "text",
        "id": "E65pzWcJbU3w"
      },
      "source": [
        "Given,\n",
        "\n",
        "Null Hypothesis : There is no significant difference between data sets\n",
        "\n",
        "Alternate Hypothesis : There is a significant difference\n",
        "\n",
        "*Do two-sample testing and check whether to reject Null Hypothesis or not.*"
      ]
    },
    {
      "cell_type": "markdown",
      "metadata": {
        "colab_type": "text",
        "id": "N-zpWvyXbU32"
      },
      "source": [
        "https://docs.scipy.org/doc/scipy/reference/generated/scipy.stats.ttest_ind.html"
      ]
    },
    {
      "cell_type": "markdown",
      "metadata": {
        "id": "WOl8nTB-Ar5S",
        "colab_type": "text"
      },
      "source": [
        "# Answer"
      ]
    },
    {
      "cell_type": "code",
      "metadata": {
        "colab_type": "code",
        "id": "UDDkuOtObU3x",
        "colab": {},
        "outputId": "b369d078-fa0f-44f2-f978-6e2e14f1344b"
      },
      "source": [
        "stats.ttest_ind(GPU1,GPU2)"
      ],
      "execution_count": null,
      "outputs": [
        {
          "output_type": "execute_result",
          "data": {
            "text/plain": [
              "Ttest_indResult(statistic=-2.627629513471839, pvalue=0.013794282041452725)"
            ]
          },
          "metadata": {
            "tags": []
          },
          "execution_count": 4
        }
      ]
    },
    {
      "cell_type": "markdown",
      "metadata": {
        "id": "i_d3YMdcAr5W",
        "colab_type": "text"
      },
      "source": [
        "p < 0.05 , reject Null Hypothesis."
      ]
    },
    {
      "cell_type": "markdown",
      "metadata": {
        "colab_type": "text",
        "id": "MbXv5aZvbU33"
      },
      "source": [
        "## Question 3\n",
        "\n",
        "He is trying a third GPU - GPU3."
      ]
    },
    {
      "cell_type": "code",
      "metadata": {
        "colab_type": "code",
        "id": "kkh_sQl4bU34",
        "colab": {}
      },
      "source": [
        "GPU3 = np.array([9,10,9,11,10,13,12,9,12,12,13,12,13,10,11])\n",
        "\n",
        "#Assumption: Both the datasets (GPU1 & GPU 3) are random, independent, parametric & normally distributed"
      ],
      "execution_count": null,
      "outputs": []
    },
    {
      "cell_type": "markdown",
      "metadata": {
        "colab_type": "text",
        "id": "WoYNz3g7bU37"
      },
      "source": [
        "*Do two-sample testing and check whether there is significant differene between speeds of two GPUs GPU1 and GPU3.*\n",
        "\n",
        "#### Answer:"
      ]
    },
    {
      "cell_type": "code",
      "metadata": {
        "colab_type": "code",
        "id": "X4N11XArbU38",
        "colab": {},
        "outputId": "b8339cbb-b4e5-47cf-9041-8086c961c45c"
      },
      "source": [
        "stats.ttest_ind(GPU1,GPU3)"
      ],
      "execution_count": null,
      "outputs": [
        {
          "output_type": "execute_result",
          "data": {
            "text/plain": [
              "Ttest_indResult(statistic=-1.4988943759093303, pvalue=0.14509210993138993)"
            ]
          },
          "metadata": {
            "tags": []
          },
          "execution_count": 6
        }
      ]
    },
    {
      "cell_type": "markdown",
      "metadata": {
        "id": "o4UB_GNbAr5e",
        "colab_type": "text"
      },
      "source": [
        "Since, p > 0.05, so we can't reject Null Hypothesis. Hence, Mean of both GPU's are same. "
      ]
    },
    {
      "cell_type": "code",
      "metadata": {
        "id": "uNIwJVTTAr5e",
        "colab_type": "code",
        "colab": {},
        "outputId": "9d66adc8-756e-42f3-f1df-9c672424e8fb"
      },
      "source": [
        "stats.ttest_ind(GPU2,GPU3)"
      ],
      "execution_count": null,
      "outputs": [
        {
          "output_type": "execute_result",
          "data": {
            "text/plain": [
              "Ttest_indResult(statistic=0.814345071045956, pvalue=0.4223194951887398)"
            ]
          },
          "metadata": {
            "tags": []
          },
          "execution_count": 7
        }
      ]
    },
    {
      "cell_type": "markdown",
      "metadata": {
        "id": "s63UXIJSAr5h",
        "colab_type": "text"
      },
      "source": [
        "Since, p > 0.05, so we can't reject Null Hypothesis. Hence, Mean of both GPU's are same. "
      ]
    },
    {
      "cell_type": "markdown",
      "metadata": {
        "colab_type": "text",
        "id": "oyDFS4WZbU4A"
      },
      "source": [
        "## ANOVA"
      ]
    },
    {
      "cell_type": "markdown",
      "metadata": {
        "colab_type": "text",
        "id": "wknPzstFbU4B"
      },
      "source": [
        "## Question 4 \n",
        "\n",
        "If you need to compare more than two data sets at a time, an ANOVA is your best bet. \n",
        "\n",
        "*The results from three experiments with overlapping 95% confidence intervals are given below, and we want to confirm that the results for all three experiments are not significantly different.*\n",
        "\n",
        "But before conducting ANOVA, test equality of variances (using Levene's test) is satisfied or not. If not, then mention that we cannot depend on the result of ANOVA"
      ]
    },
    {
      "cell_type": "code",
      "metadata": {
        "colab_type": "code",
        "id": "kGb0GeK8bU4C",
        "colab": {}
      },
      "source": [
        "import numpy as np\n",
        "\n",
        "e1 = np.array([1.595440,1.419730,0.000000,0.000000])\n",
        "e2 = np.array([1.433800,2.079700,0.892139,2.384740])\n",
        "e3 = np.array([0.036930,0.938018,0.995956,1.006970])\n",
        "\n",
        "#Assumption: All the 3 datasets (e1,e2 & e3) are random, independent, parametric & normally distributed"
      ],
      "execution_count": null,
      "outputs": []
    },
    {
      "cell_type": "markdown",
      "metadata": {
        "colab_type": "text",
        "id": "_xiYN6gVbU4G"
      },
      "source": [
        "Perform levene test on the data\n",
        "\n",
        "The Levene test tests the null hypothesis that all input samples are from populations with equal variances. Levene’s test is an alternative to Bartlett’s test bartlett in the case where there are significant deviations from normality.\n",
        "\n",
        "source: scipy.org"
      ]
    },
    {
      "cell_type": "markdown",
      "metadata": {
        "id": "43CXPh2AAr5n",
        "colab_type": "text"
      },
      "source": [
        "For Null Hypothesis: Variance is equal\n",
        "For Alternate Hypothesis: Variance is not equal"
      ]
    },
    {
      "cell_type": "markdown",
      "metadata": {
        "colab_type": "text",
        "id": "f2MlJTXgbU4H"
      },
      "source": [
        "#### Answer:"
      ]
    },
    {
      "cell_type": "code",
      "metadata": {
        "colab_type": "code",
        "id": "VUJP_GGQbU4R",
        "colab": {},
        "outputId": "0299021c-8ffe-4fa4-9221-fa12c08edf28"
      },
      "source": [
        "stats.levene(e1,e2,e3, center= 'median')"
      ],
      "execution_count": null,
      "outputs": [
        {
          "output_type": "execute_result",
          "data": {
            "text/plain": [
              "LeveneResult(statistic=2.6741725711150446, pvalue=0.12259792666001798)"
            ]
          },
          "metadata": {
            "tags": []
          },
          "execution_count": 9
        }
      ]
    },
    {
      "cell_type": "markdown",
      "metadata": {
        "id": "6S-pAoKzAr5q",
        "colab_type": "text"
      },
      "source": [
        "Since, p > 0.05, so we accept Null Hypothesis. Hence, e1,e2 and e3 pass equality test of variance."
      ]
    },
    {
      "cell_type": "markdown",
      "metadata": {
        "colab_type": "text",
        "id": "FigxGCQtbU4Y"
      },
      "source": [
        "## Question 5\n",
        "\n",
        "The one-way ANOVA tests the null hypothesis that two or more groups have the same population mean. The test is applied to samples from two or more groups, possibly with differing sizes.\n",
        "\n",
        "use stats.f_oneway() module to perform one-way ANOVA test"
      ]
    },
    {
      "cell_type": "markdown",
      "metadata": {
        "id": "Qg8CCmkuAr5r",
        "colab_type": "text"
      },
      "source": [
        "# Answer"
      ]
    },
    {
      "cell_type": "code",
      "metadata": {
        "colab_type": "code",
        "id": "P3bPYPCbbU4Z",
        "colab": {},
        "outputId": "b6b3e82f-5c66-4888-a92b-345d55dc5c77"
      },
      "source": [
        "stats.f_oneway(e1,e2,e3)"
      ],
      "execution_count": null,
      "outputs": [
        {
          "output_type": "execute_result",
          "data": {
            "text/plain": [
              "F_onewayResult(statistic=2.51357622845924, pvalue=0.13574644501798466)"
            ]
          },
          "metadata": {
            "tags": []
          },
          "execution_count": 10
        }
      ]
    },
    {
      "cell_type": "markdown",
      "metadata": {
        "id": "S8EgqpW1Ar5v",
        "colab_type": "text"
      },
      "source": [
        "Since, p > 0.05, Fail to reject the Null Hypothesis. "
      ]
    },
    {
      "cell_type": "markdown",
      "metadata": {
        "colab_type": "text",
        "id": "hm7v3pcIbU4m"
      },
      "source": [
        "## Question 6 \n",
        "\n",
        "You are a manager of a chinese restaurant. You want to determine whether the waiting time to place an order has changed in the past month from its previous population mean value of 4.5 minutes. \n",
        "State the null and alternative hypothesis.\n",
        "\n"
      ]
    },
    {
      "cell_type": "markdown",
      "metadata": {
        "id": "wQgw-wBzAr5w",
        "colab_type": "text"
      },
      "source": [
        "# Answer"
      ]
    },
    {
      "cell_type": "markdown",
      "metadata": {
        "id": "YsIJrcbfAr5w",
        "colab_type": "text"
      },
      "source": [
        "Null Hypothesis: Mean = 4.5\n",
        "\n",
        "Alternate Hypothesis: Mean is not equal to 4.5"
      ]
    },
    {
      "cell_type": "markdown",
      "metadata": {
        "colab_type": "text",
        "id": "1SGpq-dKbU4r"
      },
      "source": [
        "## Chi square test"
      ]
    },
    {
      "cell_type": "markdown",
      "metadata": {
        "colab_type": "text",
        "id": "WlxmIu_rdgpc"
      },
      "source": [
        "## Question 7"
      ]
    },
    {
      "cell_type": "markdown",
      "metadata": {
        "colab_type": "text",
        "id": "8J3V015PbU4s"
      },
      "source": [
        "Let's create a small dataset for dice rolls of four players"
      ]
    },
    {
      "cell_type": "code",
      "metadata": {
        "colab_type": "code",
        "id": "xrO5BbIEbU4t",
        "colab": {}
      },
      "source": [
        "import numpy as np\n",
        "\n",
        "d1 = [1, 6, 3, 4]\n",
        "d2 = [2, 5, 1, 3]\n",
        "d3 = [4, 2, 3, 1]\n",
        "d4 = [3, 4, 1, 2]\n",
        "d5 = [1, 6, 3, 5]\n",
        "d6 = [3, 2, 2, 1]\n",
        "\n",
        "dice = np.array([d1, d2, d3, d4, d5, d6])"
      ],
      "execution_count": null,
      "outputs": []
    },
    {
      "cell_type": "markdown",
      "metadata": {
        "id": "pNwrvIGpAr53",
        "colab_type": "text"
      },
      "source": [
        "dof = (r-1)(c-1)"
      ]
    },
    {
      "cell_type": "markdown",
      "metadata": {
        "colab_type": "text",
        "id": "uF7GRMChbU4x"
      },
      "source": [
        "run the test using SciPy Stats library\n",
        "\n",
        "Depending on the test, we are generally looking for a threshold at either 0.05 or 0.01. Our test is significant (i.e. we reject the null hypothesis) if we get a p-value below our threshold.\n",
        "\n",
        "For our purposes, we’ll use 0.01 as the threshold.\n",
        "\n",
        "use stats.chi2_contingency() module \n",
        "\n",
        "This function computes the chi-square statistic and p-value for the hypothesis test of independence of the observed frequencies in the contingency table\n",
        "\n",
        "Print the following:\n",
        "\n",
        "- chi2 stat\n",
        "- p-value\n",
        "\n",
        "\n"
      ]
    },
    {
      "cell_type": "markdown",
      "metadata": {
        "id": "xZ3SzscQAr54",
        "colab_type": "text"
      },
      "source": [
        "# Answer"
      ]
    },
    {
      "cell_type": "code",
      "metadata": {
        "colab_type": "code",
        "id": "vqaTIKmgbU4y",
        "colab": {},
        "outputId": "74970fa2-7bd1-41f3-c4af-fff4747e8f16"
      },
      "source": [
        "stats.chi2_contingency(dice)"
      ],
      "execution_count": null,
      "outputs": [
        {
          "output_type": "execute_result",
          "data": {
            "text/plain": [
              "(11.445004959326388,\n",
              " 0.720458335452983,\n",
              " 15,\n",
              " array([[2.88235294, 5.14705882, 2.67647059, 3.29411765],\n",
              "        [2.26470588, 4.04411765, 2.10294118, 2.58823529],\n",
              "        [2.05882353, 3.67647059, 1.91176471, 2.35294118],\n",
              "        [2.05882353, 3.67647059, 1.91176471, 2.35294118],\n",
              "        [3.08823529, 5.51470588, 2.86764706, 3.52941176],\n",
              "        [1.64705882, 2.94117647, 1.52941176, 1.88235294]]))"
            ]
          },
          "metadata": {
            "tags": []
          },
          "execution_count": 12
        }
      ]
    },
    {
      "cell_type": "markdown",
      "metadata": {
        "id": "36pROS7hAr58",
        "colab_type": "text"
      },
      "source": [
        "Since, chi2 stat = 11.445004959326388, p value = 0.720458335452983, \n",
        "\n",
        "Hence, p > 0.05, so we accept Null Hypothesis."
      ]
    },
    {
      "cell_type": "markdown",
      "metadata": {
        "colab_type": "text",
        "id": "VzyfaNoabU42"
      },
      "source": [
        "## Question 8\n",
        "\n",
        "### Z-test\n",
        "\n",
        "Get zscore on the above dice data using stats.zscore module from scipy. Convert zscore values to p-value and take mean of the array."
      ]
    },
    {
      "cell_type": "markdown",
      "metadata": {
        "id": "zgDpCAzAAr58",
        "colab_type": "text"
      },
      "source": [
        "# Answer"
      ]
    },
    {
      "cell_type": "code",
      "metadata": {
        "colab_type": "code",
        "id": "Sd5xPCuRbU43",
        "colab": {},
        "outputId": "ada9734d-f6aa-44f8-9853-f0c23dbb812f"
      },
      "source": [
        "dice"
      ],
      "execution_count": null,
      "outputs": [
        {
          "output_type": "execute_result",
          "data": {
            "text/plain": [
              "array([[1, 6, 3, 4],\n",
              "       [2, 5, 1, 3],\n",
              "       [4, 2, 3, 1],\n",
              "       [3, 4, 1, 2],\n",
              "       [1, 6, 3, 5],\n",
              "       [3, 2, 2, 1]])"
            ]
          },
          "metadata": {
            "tags": []
          },
          "execution_count": 13
        }
      ]
    },
    {
      "cell_type": "code",
      "metadata": {
        "id": "g69PpINdAr5_",
        "colab_type": "code",
        "colab": {},
        "outputId": "8fd6df8e-58b1-4e2f-e1b2-f8dabbf61f29"
      },
      "source": [
        "z = stats.zscore(dice)\n",
        "z"
      ],
      "execution_count": null,
      "outputs": [
        {
          "output_type": "execute_result",
          "data": {
            "text/plain": [
              "array([[-1.20604538,  1.09454091,  0.92847669,  0.89442719],\n",
              "       [-0.30151134,  0.4975186 , -1.29986737,  0.2236068 ],\n",
              "       [ 1.50755672, -1.29354835,  0.92847669, -1.11803399],\n",
              "       [ 0.60302269, -0.09950372, -1.29986737, -0.4472136 ],\n",
              "       [-1.20604538,  1.09454091,  0.92847669,  1.56524758],\n",
              "       [ 0.60302269, -1.29354835, -0.18569534, -1.11803399]])"
            ]
          },
          "metadata": {
            "tags": []
          },
          "execution_count": 14
        }
      ]
    },
    {
      "cell_type": "code",
      "metadata": {
        "id": "5QGoT3ypAr6C",
        "colab_type": "code",
        "colab": {},
        "outputId": "cf947586-e4aa-4a88-99ef-40f5248af06e"
      },
      "source": [
        "p_values = stats.norm.sf(abs(z))\n",
        "p_values"
      ],
      "execution_count": null,
      "outputs": [
        {
          "output_type": "execute_result",
          "data": {
            "text/plain": [
              "array([[0.1139    , 0.13685891, 0.17658018, 0.18554668],\n",
              "       [0.3815123 , 0.3094117 , 0.09682322, 0.41153164],\n",
              "       [0.06583401, 0.09791074, 0.17658018, 0.13177624],\n",
              "       [0.2732468 , 0.46036917, 0.09682322, 0.32736042],\n",
              "       [0.1139    , 0.13685891, 0.17658018, 0.05876243],\n",
              "       [0.2732468 , 0.09791074, 0.42634184, 0.13177624]])"
            ]
          },
          "metadata": {
            "tags": []
          },
          "execution_count": 15
        }
      ]
    },
    {
      "cell_type": "code",
      "metadata": {
        "id": "FzoxVKwRAr6E",
        "colab_type": "code",
        "colab": {},
        "outputId": "e5ff2aa4-c761-4b29-8c06-275f69f2ec49"
      },
      "source": [
        "mean = p_values.mean()\n",
        "mean"
      ],
      "execution_count": null,
      "outputs": [
        {
          "output_type": "execute_result",
          "data": {
            "text/plain": [
              "0.20239343794918715"
            ]
          },
          "metadata": {
            "tags": []
          },
          "execution_count": 16
        }
      ]
    },
    {
      "cell_type": "markdown",
      "metadata": {
        "colab_type": "text",
        "id": "OyoFUxf5bU47"
      },
      "source": [
        "## Question 9\n",
        "\n",
        "A Paired sample t-test compares means from the same group at different times.\n",
        "\n",
        "The basic two sample t-test is designed for testing differences between independent groups. \n",
        "In some cases, you might be interested in testing differences between samples of the same group at different points in time. \n",
        "We can conduct a paired t-test using the scipy function stats.ttest_rel(). "
      ]
    },
    {
      "cell_type": "code",
      "metadata": {
        "colab_type": "code",
        "id": "SwVmQ1gRbU48",
        "colab": {}
      },
      "source": [
        "before= stats.norm.rvs(scale=30, loc=100, size=500) ## Creates a normal distribution with a mean value of 100 and std of 30\n",
        "after = before + stats.norm.rvs(scale=5, loc=-1.25, size=500)"
      ],
      "execution_count": null,
      "outputs": []
    },
    {
      "cell_type": "markdown",
      "metadata": {
        "colab_type": "text",
        "id": "rB_os5FjbU4_"
      },
      "source": [
        "Test whether a weight-loss drug works by checking the weights of the same group patients before and after treatment using above data."
      ]
    },
    {
      "cell_type": "markdown",
      "metadata": {
        "id": "pcU0l4L1Ar6L",
        "colab_type": "text"
      },
      "source": [
        "# Answer"
      ]
    },
    {
      "cell_type": "code",
      "metadata": {
        "colab_type": "code",
        "id": "Fq2wyEqlbU5A",
        "colab": {},
        "outputId": "d2372f19-a7c7-4f72-9abb-eea7f77c0528"
      },
      "source": [
        "stats.ttest_rel(before,after)"
      ],
      "execution_count": null,
      "outputs": [
        {
          "output_type": "execute_result",
          "data": {
            "text/plain": [
              "Ttest_relResult(statistic=6.0138427443843305, pvalue=3.504861416014017e-09)"
            ]
          },
          "metadata": {
            "tags": []
          },
          "execution_count": 18
        }
      ]
    },
    {
      "cell_type": "markdown",
      "metadata": {
        "id": "JTqVNOjQAr6P",
        "colab_type": "text"
      },
      "source": [
        "Null Hypothesis : There is no change in weight after drug.\n",
        "\n",
        "Alternate Hypothesis : There is significant change in weight after drug."
      ]
    },
    {
      "cell_type": "markdown",
      "metadata": {
        "id": "bG-wtwDvAr6Q",
        "colab_type": "text"
      },
      "source": [
        "p < 0.05, there is significant change in weight after drug."
      ]
    },
    {
      "cell_type": "code",
      "metadata": {
        "id": "JTXcRBoRAr6R",
        "colab_type": "code",
        "colab": {}
      },
      "source": [
        ""
      ],
      "execution_count": null,
      "outputs": []
    }
  ]
}